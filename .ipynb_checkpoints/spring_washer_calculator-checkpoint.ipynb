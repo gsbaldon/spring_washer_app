{
 "cells": [
  {
   "cell_type": "code",
   "execution_count": null,
   "metadata": {
    "collapsed": true,
    "pycharm": {
     "is_executing": true
    }
   },
   "outputs": [],
   "source": [
    "import numpy as np\n",
    "import altair as alt\n",
    "import pandas as pd\n",
    "import streamlit as st"
   ]
  },
  {
   "cell_type": "code",
   "execution_count": null,
   "outputs": [],
   "source": [
    "def force(xx):\n",
    "    global t, f1, f2\n",
    "    xx = xx/t\n",
    "    return f1*xx*((f2 - xx) * (f2 - xx/2) + 1)\n",
    "    # return (f2 - xx) * (f2 - xx/2) + 1\n",
    "\n",
    "\n",
    "def stiffness(xx):\n",
    "    global t, f1, f2\n",
    "    xx = xx/t\n",
    "    st1 = f1*((f2 - xx) * (f2 - xx / 2) + 1)\n",
    "    st2 = f1*xx*(-(f2 - xx/2) - (f2 - xx)/2)\n",
    "    return (st1 + st2)/t\n",
    "\n",
    "\n",
    "def stress(xx):\n",
    "    global t, s1, f2, beta, gamma\n",
    "    xx = xx/t\n",
    "    return s1*xx*(beta*(f2-xx/2) + gamma)"
   ],
   "metadata": {
    "collapsed": false,
    "pycharm": {
     "is_executing": true
    }
   }
  },
  {
   "cell_type": "code",
   "execution_count": null,
   "outputs": [],
   "source": [
    "def main():\n",
    "    global E, t, nu, D, d, H\n",
    "    global beta, gamma, f1, f2, s1\n",
    "    # Constants ===============================================================\n",
    "    h = H - t       # Height of truncated cone [m]\n",
    "    delta = D/d     # Diameter ratio [-]\n",
    "\n",
    "    alpha = ((delta - 1)/delta)**2 / \\\n",
    "            ((delta + 1)/(delta - 1) -\n",
    "             2/np.log(delta)) / np.pi   # Auxiliary variable [-]\n",
    "\n",
    "    beta = (6*((delta-1)/np.log(delta) - 1)\n",
    "            / np.log(delta))/np.pi      # Auxiliary variable [-]\n",
    "\n",
    "    gamma = (3*(delta-1) /\n",
    "             np.pi)/np.log(delta)       # Auxiliary variable [-]\n",
    "\n",
    "    # Force terms --------------------------------------------------\n",
    "    f1 = 4*E*t**4/((1-nu**2)*alpha*D**2)\n",
    "    f2 = h/t\n",
    "\n",
    "    # Stress terms -------------------------------------------------\n",
    "    s1 = 4*E*t**2/((1-nu**2)*alpha*D**2)\n",
    "\n",
    "    # Calculations ============================================================\n",
    "    x = np.linspace(0, h, 200)      # Deflection vector [m]\n",
    "    F = force(x)\n",
    "    k = stiffness(x)\n",
    "    sigma = stress(x)\n",
    "    df = pd.DataFrame({'Deflection [m]': x,\n",
    "                       'Force [N]': F,\n",
    "                       'Stiffness [N/m]': k,\n",
    "                       'Stress [Pa]': sigma\n",
    "                       })\n",
    "\n",
    "    # Plots ===================================================================\n",
    "    fig1 = alt.Chart(df).mark_line().encode(x='Deflection [m]:Q', y='Force [N]:Q').interactive()\n",
    "    fig2 = alt.Chart(df).mark_line().encode(x='Deflection [m]:Q', y='Stiffness [N/m]:Q').interactive()\n",
    "    fig3 = alt.Chart(df).mark_line().encode(x='Deflection [m]:Q', y='Stress [Pa]:Q').interactive()\n",
    "\n",
    "    return fig1, fig2, fig3"
   ],
   "metadata": {
    "collapsed": false,
    "pycharm": {
     "is_executing": true
    }
   }
  },
  {
   "cell_type": "code",
   "execution_count": null,
   "outputs": [],
   "source": [
    "E = 210e9       # Young's modulus [Pa]\n",
    "t = .9e-3       # Washer thickness [m]\n",
    "nu = 0.29       # Poisson's ratio [-]\n",
    "D = 16e-3       # Outside diameter [m]\n",
    "d = 8.2e-3      # Inside diameter [m]\n",
    "H = 1.25e-3     # Washer height [m]\n",
    "\n",
    "main()"
   ],
   "metadata": {
    "collapsed": false
   }
  }
 ],
 "metadata": {
  "kernelspec": {
   "display_name": "Python 3",
   "language": "python",
   "name": "python3"
  },
  "language_info": {
   "codemirror_mode": {
    "name": "ipython",
    "version": 2
   },
   "file_extension": ".py",
   "mimetype": "text/x-python",
   "name": "python",
   "nbconvert_exporter": "python",
   "pygments_lexer": "ipython2",
   "version": "2.7.6"
  }
 },
 "nbformat": 4,
 "nbformat_minor": 0
}
