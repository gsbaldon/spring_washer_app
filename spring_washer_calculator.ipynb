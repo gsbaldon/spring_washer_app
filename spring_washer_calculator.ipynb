{
 "cells": [
  {
   "cell_type": "code",
   "execution_count": 1,
   "metadata": {
    "ExecuteTime": {
     "end_time": "2023-09-12T20:22:05.814058Z",
     "start_time": "2023-09-12T20:22:04.600434Z"
    }
   },
   "outputs": [
    {
     "ename": "ValueError",
     "evalue": "\nTo use the 'notebook' renderer, you must install the vega package\nand the associated Jupyter extension.\nSee https://altair-viz.github.io/getting_started/installation.html\nfor more information.\n",
     "output_type": "error",
     "traceback": [
      "\u001b[1;31m---------------------------------------------------------------------------\u001b[0m",
      "\u001b[1;31mValueError\u001b[0m                                Traceback (most recent call last)",
      "File \u001b[1;32m~\\AppData\\Roaming\\Python\\Python311\\site-packages\\altair\\utils\\plugin_registry.py:151\u001b[0m, in \u001b[0;36mPluginRegistry._enable\u001b[1;34m(self, name, **options)\u001b[0m\n\u001b[0;32m    150\u001b[0m \u001b[38;5;28;01mtry\u001b[39;00m:\n\u001b[1;32m--> 151\u001b[0m     (ep,) \u001b[38;5;241m=\u001b[39m [\n\u001b[0;32m    152\u001b[0m         ep\n\u001b[0;32m    153\u001b[0m         \u001b[38;5;28;01mfor\u001b[39;00m ep \u001b[38;5;129;01min\u001b[39;00m importlib_metadata_get(\u001b[38;5;28mself\u001b[39m\u001b[38;5;241m.\u001b[39mentry_point_group)\n\u001b[0;32m    154\u001b[0m         \u001b[38;5;28;01mif\u001b[39;00m ep\u001b[38;5;241m.\u001b[39mname \u001b[38;5;241m==\u001b[39m name\n\u001b[0;32m    155\u001b[0m     ]\n\u001b[0;32m    156\u001b[0m \u001b[38;5;28;01mexcept\u001b[39;00m \u001b[38;5;167;01mValueError\u001b[39;00m \u001b[38;5;28;01mas\u001b[39;00m err:\n",
      "\u001b[1;31mValueError\u001b[0m: not enough values to unpack (expected 1, got 0)",
      "\nThe above exception was the direct cause of the following exception:\n",
      "\u001b[1;31mValueError\u001b[0m                                Traceback (most recent call last)",
      "Cell \u001b[1;32mIn[1], line 6\u001b[0m\n\u001b[0;32m      3\u001b[0m \u001b[38;5;28;01mimport\u001b[39;00m \u001b[38;5;21;01mpandas\u001b[39;00m \u001b[38;5;28;01mas\u001b[39;00m \u001b[38;5;21;01mpd\u001b[39;00m\n\u001b[0;32m      4\u001b[0m \u001b[38;5;28;01mimport\u001b[39;00m \u001b[38;5;21;01mstreamlit\u001b[39;00m \u001b[38;5;28;01mas\u001b[39;00m \u001b[38;5;21;01mst\u001b[39;00m\n\u001b[1;32m----> 6\u001b[0m \u001b[43malt\u001b[49m\u001b[38;5;241;43m.\u001b[39;49m\u001b[43mrenderers\u001b[49m\u001b[38;5;241;43m.\u001b[39;49m\u001b[43menable\u001b[49m\u001b[43m(\u001b[49m\u001b[38;5;124;43m'\u001b[39;49m\u001b[38;5;124;43mnotebook\u001b[39;49m\u001b[38;5;124;43m'\u001b[39;49m\u001b[43m)\u001b[49m\n",
      "File \u001b[1;32m~\\AppData\\Roaming\\Python\\Python311\\site-packages\\altair\\utils\\plugin_registry.py:190\u001b[0m, in \u001b[0;36mPluginRegistry.enable\u001b[1;34m(self, name, **options)\u001b[0m\n\u001b[0;32m    188\u001b[0m \u001b[38;5;28;01mif\u001b[39;00m name \u001b[38;5;129;01mis\u001b[39;00m \u001b[38;5;28;01mNone\u001b[39;00m:\n\u001b[0;32m    189\u001b[0m     name \u001b[38;5;241m=\u001b[39m \u001b[38;5;28mself\u001b[39m\u001b[38;5;241m.\u001b[39mactive\n\u001b[1;32m--> 190\u001b[0m \u001b[38;5;28;01mreturn\u001b[39;00m \u001b[43mPluginEnabler\u001b[49m\u001b[43m(\u001b[49m\u001b[38;5;28;43mself\u001b[39;49m\u001b[43m,\u001b[49m\u001b[43m \u001b[49m\u001b[43mname\u001b[49m\u001b[43m,\u001b[49m\u001b[43m \u001b[49m\u001b[38;5;241;43m*\u001b[39;49m\u001b[38;5;241;43m*\u001b[39;49m\u001b[43moptions\u001b[49m\u001b[43m)\u001b[49m\n",
      "File \u001b[1;32m~\\AppData\\Roaming\\Python\\Python311\\site-packages\\altair\\utils\\plugin_registry.py:37\u001b[0m, in \u001b[0;36mPluginEnabler.__init__\u001b[1;34m(self, registry, name, **options)\u001b[0m\n\u001b[0;32m     35\u001b[0m \u001b[38;5;28mself\u001b[39m\u001b[38;5;241m.\u001b[39moptions \u001b[38;5;241m=\u001b[39m options  \u001b[38;5;66;03m# type: Dict[str, Any]\u001b[39;00m\n\u001b[0;32m     36\u001b[0m \u001b[38;5;28mself\u001b[39m\u001b[38;5;241m.\u001b[39moriginal_state \u001b[38;5;241m=\u001b[39m registry\u001b[38;5;241m.\u001b[39m_get_state()  \u001b[38;5;66;03m# type: Dict[str, Any]\u001b[39;00m\n\u001b[1;32m---> 37\u001b[0m \u001b[38;5;28;43mself\u001b[39;49m\u001b[38;5;241;43m.\u001b[39;49m\u001b[43mregistry\u001b[49m\u001b[38;5;241;43m.\u001b[39;49m\u001b[43m_enable\u001b[49m\u001b[43m(\u001b[49m\u001b[43mname\u001b[49m\u001b[43m,\u001b[49m\u001b[43m \u001b[49m\u001b[38;5;241;43m*\u001b[39;49m\u001b[38;5;241;43m*\u001b[39;49m\u001b[43moptions\u001b[49m\u001b[43m)\u001b[49m\n",
      "File \u001b[1;32m~\\AppData\\Roaming\\Python\\Python311\\site-packages\\altair\\utils\\plugin_registry.py:158\u001b[0m, in \u001b[0;36mPluginRegistry._enable\u001b[1;34m(self, name, **options)\u001b[0m\n\u001b[0;32m    156\u001b[0m \u001b[38;5;28;01mexcept\u001b[39;00m \u001b[38;5;167;01mValueError\u001b[39;00m \u001b[38;5;28;01mas\u001b[39;00m err:\n\u001b[0;32m    157\u001b[0m     \u001b[38;5;28;01mif\u001b[39;00m name \u001b[38;5;129;01min\u001b[39;00m \u001b[38;5;28mself\u001b[39m\u001b[38;5;241m.\u001b[39mentrypoint_err_messages:\n\u001b[1;32m--> 158\u001b[0m         \u001b[38;5;28;01mraise\u001b[39;00m \u001b[38;5;167;01mValueError\u001b[39;00m(\u001b[38;5;28mself\u001b[39m\u001b[38;5;241m.\u001b[39mentrypoint_err_messages[name]) \u001b[38;5;28;01mfrom\u001b[39;00m \u001b[38;5;21;01merr\u001b[39;00m\n\u001b[0;32m    159\u001b[0m     \u001b[38;5;28;01melse\u001b[39;00m:\n\u001b[0;32m    160\u001b[0m         \u001b[38;5;28;01mraise\u001b[39;00m NoSuchEntryPoint(\u001b[38;5;28mself\u001b[39m\u001b[38;5;241m.\u001b[39mentry_point_group, name) \u001b[38;5;28;01mfrom\u001b[39;00m \u001b[38;5;21;01merr\u001b[39;00m\n",
      "\u001b[1;31mValueError\u001b[0m: \nTo use the 'notebook' renderer, you must install the vega package\nand the associated Jupyter extension.\nSee https://altair-viz.github.io/getting_started/installation.html\nfor more information.\n"
     ]
    }
   ],
   "source": [
    "import numpy as np\n",
    "import altair as alt\n",
    "import pandas as pd\n",
    "import streamlit as st\n",
    "\n",
    "alt.renderers.enable('notebook')"
   ]
  },
  {
   "cell_type": "code",
   "execution_count": 2,
   "metadata": {
    "ExecuteTime": {
     "end_time": "2023-09-12T20:22:08.483125Z",
     "start_time": "2023-09-12T20:22:08.446364Z"
    }
   },
   "outputs": [],
   "source": [
    "def force(xx):\n",
    "    global t, f1, f2\n",
    "    xx = xx/t\n",
    "    return f1*xx*((f2 - xx) * (f2 - xx/2) + 1)\n",
    "    # return (f2 - xx) * (f2 - xx/2) + 1\n",
    "\n",
    "\n",
    "def stiffness(xx):\n",
    "    global t, f1, f2\n",
    "    xx = xx/t\n",
    "    st1 = f1*((f2 - xx) * (f2 - xx / 2) + 1)\n",
    "    st2 = f1*xx*(-(f2 - xx/2) - (f2 - xx)/2)\n",
    "    return (st1 + st2)/t\n",
    "\n",
    "\n",
    "def stress(xx):\n",
    "    global t, s1, f2, beta, gamma\n",
    "    xx = xx/t\n",
    "    return s1*xx*(beta*(f2-xx/2) + gamma)"
   ]
  },
  {
   "cell_type": "code",
   "execution_count": 3,
   "metadata": {
    "ExecuteTime": {
     "end_time": "2023-09-12T20:22:09.812680Z",
     "start_time": "2023-09-12T20:22:09.799720Z"
    }
   },
   "outputs": [],
   "source": [
    "def main():\n",
    "    global E, t, nu, D, d, H\n",
    "    global beta, gamma, f1, f2, s1\n",
    "    # Constants ===============================================================\n",
    "    h = H - t       # Height of truncated cone [m]\n",
    "    delta = D/d     # Diameter ratio [-]\n",
    "\n",
    "    alpha = ((delta - 1)/delta)**2 / \\\n",
    "            ((delta + 1)/(delta - 1) -\n",
    "             2/np.log(delta)) / np.pi   # Auxiliary variable [-]\n",
    "\n",
    "    beta = (6*((delta-1)/np.log(delta) - 1)\n",
    "            / np.log(delta))/np.pi      # Auxiliary variable [-]\n",
    "\n",
    "    gamma = (3*(delta-1) /\n",
    "             np.pi)/np.log(delta)       # Auxiliary variable [-]\n",
    "\n",
    "    # Force terms --------------------------------------------------\n",
    "    f1 = 4*E*t**4/((1-nu**2)*alpha*D**2)\n",
    "    f2 = h/t\n",
    "\n",
    "    # Stress terms -------------------------------------------------\n",
    "    s1 = 4*E*t**2/((1-nu**2)*alpha*D**2)\n",
    "\n",
    "    # Calculations ============================================================\n",
    "    x = np.linspace(0, h, 200)      # Deflection vector [m]\n",
    "    F = force(x)\n",
    "    k = stiffness(x)\n",
    "    sigma = stress(x)\n",
    "    df = pd.DataFrame({'Deflection [m]': x,\n",
    "                       'Force [N]': F,\n",
    "                       'Stiffness [N/m]': k,\n",
    "                       'Stress [Pa]': sigma\n",
    "                       })\n",
    "\n",
    "    # Plots ===================================================================\n",
    "    fig1 = alt.Chart(df).mark_line().encode(x='Deflection [m]:Q', y='Force [N]:Q').interactive()\n",
    "    fig2 = alt.Chart(df).mark_line().encode(x='Deflection [m]:Q', y='Stiffness [N/m]:Q').interactive()\n",
    "    fig3 = alt.Chart(df).mark_line().encode(x='Deflection [m]:Q', y='Stress [Pa]:Q').interactive()\n",
    "\n",
    "    return fig1, fig2, fig3"
   ]
  },
  {
   "cell_type": "code",
   "execution_count": 4,
   "metadata": {
    "ExecuteTime": {
     "end_time": "2023-09-12T20:22:10.691182Z",
     "start_time": "2023-09-12T20:22:10.597810Z"
    }
   },
   "outputs": [
    {
     "data": {
      "text/plain": [
       "(alt.Chart(...), alt.Chart(...), alt.Chart(...))"
      ]
     },
     "execution_count": 4,
     "metadata": {},
     "output_type": "execute_result"
    }
   ],
   "source": [
    "E = 210e9       # Young's modulus [Pa]\n",
    "t = .9e-3       # Washer thickness [m]\n",
    "nu = 0.29       # Poisson's ratio [-]\n",
    "D = 16e-3       # Outside diameter [m]\n",
    "d = 8.2e-3      # Inside diameter [m]\n",
    "H = 1.25e-3     # Washer height [m]\n",
    "\n",
    "main()"
   ]
  },
  {
   "cell_type": "code",
   "execution_count": null,
   "metadata": {},
   "outputs": [],
   "source": []
  }
 ],
 "metadata": {
  "kernelspec": {
   "display_name": "Python 3 (ipykernel)",
   "language": "python",
   "name": "python3"
  },
  "language_info": {
   "codemirror_mode": {
    "name": "ipython",
    "version": 3
   },
   "file_extension": ".py",
   "mimetype": "text/x-python",
   "name": "python",
   "nbconvert_exporter": "python",
   "pygments_lexer": "ipython3",
   "version": "3.11.3"
  },
  "varInspector": {
   "cols": {
    "lenName": 16,
    "lenType": 16,
    "lenVar": 40
   },
   "kernels_config": {
    "python": {
     "delete_cmd_postfix": "",
     "delete_cmd_prefix": "del ",
     "library": "var_list.py",
     "varRefreshCmd": "print(var_dic_list())"
    },
    "r": {
     "delete_cmd_postfix": ") ",
     "delete_cmd_prefix": "rm(",
     "library": "var_list.r",
     "varRefreshCmd": "cat(var_dic_list()) "
    }
   },
   "types_to_exclude": [
    "module",
    "function",
    "builtin_function_or_method",
    "instance",
    "_Feature"
   ],
   "window_display": false
  }
 },
 "nbformat": 4,
 "nbformat_minor": 1
}
